{
 "cells": [
  {
   "cell_type": "code",
   "execution_count": 15,
   "metadata": {},
   "outputs": [
    {
     "name": "stdout",
     "output_type": "stream",
     "text": [
      "a a_1 a_2 b c a_3 a_4 d c_1 d_1 d_2 \n"
     ]
    }
   ],
   "source": [
    "# Напишите программу, которая принимает на вход\n",
    "# строку, и отслеживает, сколько раз каждый символ\n",
    "# уже встречался. Количество повторов добавляется к\n",
    "# символам с помощью постфикса формата _n.\n",
    "# Input: a a a b c a a d c d d\n",
    "# Output: a a_1 a_2 b c a_3 a_4 d c_1 d_1 d_2\n",
    "\n",
    "text = 'a a a b c a a d c d d'\n",
    "text = text.split()\n",
    "result = ''\n",
    "d = {}\n",
    "for i in range(len(text)):\n",
    "    if text[i] not in d:\n",
    "        d[text[i]] = 1\n",
    "        result += f'{text[i]} '\n",
    "    else:\n",
    "        d[text[i]] += 1\n",
    "        result += f'{text[i]}_{d[text[i]] - 1} '\n",
    "\n",
    "print(result)\n",
    "\n",
    "\n"
   ]
  },
  {
   "cell_type": "code",
   "execution_count": 20,
   "metadata": {},
   "outputs": [
    {
     "name": "stdout",
     "output_type": "stream",
     "text": [
      "15\n"
     ]
    }
   ],
   "source": [
    "# Пользователь вводит текст(строка). Словом считается\n",
    "# последовательность непробельных символов идущих\n",
    "# подряд, слова разделены одним или большим числом\n",
    "# пробелов. Определите, сколько различных слов\n",
    "# содержится в этом тексте.\n",
    "# Input: She sells sea shells on the sea shore The shells\n",
    "# that she sells are sea shells I'm sure.So if she sells sea\n",
    "# shells on the sea shore I'm sure that the shells are sea\n",
    "# shore shells\n",
    "# Output: 13\n",
    "\n",
    "text = \"She sells sea shells on the sea shore The shells that she sells are sea shells I'm sure.So if she sells sea shells on the sea shore I'm sure that the shells are sea\"\n",
    "result = []\n",
    "text = text.split()\n",
    "for i in text:\n",
    "    if i.lower() not in result:\n",
    "        result.append(i)\n",
    "print(len(result))\n"
   ]
  }
 ],
 "metadata": {
  "kernelspec": {
   "display_name": "Python 3",
   "language": "python",
   "name": "python3"
  },
  "language_info": {
   "codemirror_mode": {
    "name": "ipython",
    "version": 3
   },
   "file_extension": ".py",
   "mimetype": "text/x-python",
   "name": "python",
   "nbconvert_exporter": "python",
   "pygments_lexer": "ipython3",
   "version": "3.11.1"
  },
  "orig_nbformat": 4,
  "vscode": {
   "interpreter": {
    "hash": "b93fce6c5cf69168f1a13ce911c72f30cc77c79194377ddd862c1f46d8218ab1"
   }
  }
 },
 "nbformat": 4,
 "nbformat_minor": 2
}
