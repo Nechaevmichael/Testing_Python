{
 "cells": [
  {
   "cell_type": "code",
   "execution_count": 15,
   "metadata": {},
   "outputs": [
    {
     "name": "stdout",
     "output_type": "stream",
     "text": [
      "a a_1 a_2 b c a_3 a_4 d c_1 d_1 d_2 \n"
     ]
    }
   ],
   "source": [
    "# Напишите программу, которая принимает на вход\n",
    "# строку, и отслеживает, сколько раз каждый символ\n",
    "# уже встречался. Количество повторов добавляется к\n",
    "# символам с помощью постфикса формата _n.\n",
    "# Input: a a a b c a a d c d d\n",
    "# Output: a a_1 a_2 b c a_3 a_4 d c_1 d_1 d_2\n",
    "\n",
    "text = 'a a a b c a a d c d d'\n",
    "text = text.split()\n",
    "result = ''\n",
    "d = {}\n",
    "for i in range(len(text)):\n",
    "    if text[i] not in d:\n",
    "        d[text[i]] = 1\n",
    "        result += f'{text[i]} '\n",
    "    else:\n",
    "        d[text[i]] += 1\n",
    "        result += f'{text[i]}_{d[text[i]] - 1} '\n",
    "\n",
    "print(result)\n",
    "\n",
    "\n"
   ]
  },
  {
   "cell_type": "code",
   "execution_count": 20,
   "metadata": {},
   "outputs": [
    {
     "name": "stdout",
     "output_type": "stream",
     "text": [
      "15\n"
     ]
    }
   ],
   "source": [
    "# Пользователь вводит текст(строка). Словом считается\n",
    "# последовательность непробельных символов идущих\n",
    "# подряд, слова разделены одним или большим числом\n",
    "# пробелов. Определите, сколько различных слов\n",
    "# содержится в этом тексте.\n",
    "# Input: She sells sea shells on the sea shore The shells\n",
    "# that she sells are sea shells I'm sure.So if she sells sea\n",
    "# shells on the sea shore I'm sure that the shells are sea\n",
    "# shore shells\n",
    "# Output: 13\n",
    "\n",
    "text = \"She sells sea shells on the sea shore The shells that she sells are sea shells I'm sure.So if she sells sea shells on the sea shore I'm sure that the shells are sea\"\n",
    "result = []\n",
    "text = text.split()\n",
    "for i in text:\n",
    "    if i.lower() not in result:\n",
    "        result.append(i)\n",
    "print(len(result))\n"
   ]
  },
  {
   "cell_type": "code",
   "execution_count": 21,
   "metadata": {},
   "outputs": [
    {
     "name": "stdout",
     "output_type": "stream",
     "text": [
      "[1, 4, 7, 10, 13, 16, 19]\n"
     ]
    }
   ],
   "source": [
    "n = 6\n",
    "lst = []\n",
    "for i in range(n + 1):\n",
    "    lst.append(3 * i + 1)\n",
    "print(lst)"
   ]
  },
  {
   "cell_type": "code",
   "execution_count": 24,
   "metadata": {},
   "outputs": [
    {
     "name": "stdout",
     "output_type": "stream",
     "text": [
      "[1, 4, 7, 10, 13, 16, 19]\n",
      "[1, 4, 7, 10, 13, 16, 19]\n"
     ]
    }
   ],
   "source": [
    "# Для натурального n создать список, состоящий из элементов последовательности 3n + 1\n",
    "# Пример:\n",
    "# Для n = 6: [1, 4, 7, 10, 13, 16, 19]\n",
    "\n",
    "\n",
    "n = 6\n",
    "l = []\n",
    "for i in range(n + 1):\n",
    "    l.append(3 * i + 1)\n",
    "print(l)\n",
    "\n",
    "l_1 = [(3 * i + 1) for i in range(n + 1)]\n",
    "print(l_1)"
   ]
  },
  {
   "cell_type": "code",
   "execution_count": 38,
   "metadata": {},
   "outputs": [
    {
     "name": "stdout",
     "output_type": "stream",
     "text": [
      "[0, 1, 0, 0, 4, 0, 0, 7, 0, 0, 10, 0, 0, 13, 0, 0, 16, 0, 0, 19]\n"
     ]
    }
   ],
   "source": [
    "# Усложнение:\n",
    "# Создать список, где указанные числа будут стоять на соответствующих индексах, остальные элементы сделать нулевыми, т. е. для индекса 1, значение 1\n",
    "# Пример:\n",
    "# Для n = 6 [0, 1, 0, 0, 4, 0, 0, 7, 0, 0, 10, 0, 0, 13, 0, 0, 16, 0, 0, 19]\n",
    "l_2 = [0] * (max(l_1) + 1)\n",
    "\n",
    "for i in range(len(l_2)):\n",
    "    for j in range(len(l_1)):\n",
    "        if i == l_1[j]:\n",
    "            l_2[i] = l_1[j]\n",
    "print(l_2)"
   ]
  },
  {
   "cell_type": "code",
   "execution_count": 43,
   "metadata": {},
   "outputs": [
    {
     "name": "stdout",
     "output_type": "stream",
     "text": [
      "5\n"
     ]
    }
   ],
   "source": [
    "# Напишите программу, которая определит позицию второго вхожднеия строки в списке либо сообщит, что её нет.\n",
    "# Пример:\n",
    "# список: [\"qwe\", 'asd', 'zxc', 'qwe', 'ertqwe'], ищем: 'qwe', ответ: 3\n",
    "# списко: [], ищем \"123\", ответ: -1\n",
    "\n",
    "# l = [\"qwe\", 'asd', 'zxc', 'qwe', 'ertqwe']\n",
    "l = [\"йцу\", \"фыв\", \"ячс\", \"цук\", \"йцукен\", \"йцу\"]\n",
    "text = \"йцу\"\n",
    "count_text = 0\n",
    "idx = 0\n",
    "for i in range(len(l)):\n",
    "    if text == l[i]:\n",
    "        count_text += 1\n",
    "        if count_text == 2:\n",
    "            idx = i\n",
    "if idx == 0:\n",
    "    print(-1)\n",
    "else:\n",
    "    print(idx)\n",
    "\n"
   ]
  }
 ],
 "metadata": {
  "kernelspec": {
   "display_name": "Python 3",
   "language": "python",
   "name": "python3"
  },
  "language_info": {
   "codemirror_mode": {
    "name": "ipython",
    "version": 3
   },
   "file_extension": ".py",
   "mimetype": "text/x-python",
   "name": "python",
   "nbconvert_exporter": "python",
   "pygments_lexer": "ipython3",
   "version": "3.11.-1"
  },
  "orig_nbformat": 4,
  "vscode": {
   "interpreter": {
    "hash": "b93fce6c5cf69168f1a13ce911c72f30cc77c79194377ddd862c1f46d8218ab1"
   }
  }
 },
 "nbformat": 4,
 "nbformat_minor": 2
}
