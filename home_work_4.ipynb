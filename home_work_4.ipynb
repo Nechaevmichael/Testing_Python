{
 "cells": [
  {
   "cell_type": "code",
   "execution_count": 9,
   "metadata": {},
   "outputs": [
    {
     "name": "stdout",
     "output_type": "stream",
     "text": [
      "Повторяющихся чисел нет\n"
     ]
    }
   ],
   "source": [
    "# Даны два неупорядоченных набора целых чисел (может быть, с повторениями). Выдать без повторений в порядке возрастания все те числа, \n",
    "# которые встречаются в обоих наборах. \n",
    "# Если таких чисел нет - выдать внятное диагностическое сообщение\n",
    "# Наборы (списки) чисел можно считать заданными и не вводить с клавиатуры\n",
    "\n",
    "# Примеры/Тесты:\n",
    "# Input1: 2 4 6 8 10 12 10 8 6 4 2\n",
    "# Input2: 3 6 9 12 15 18\n",
    "# Output: 6 12     Обратите внимание: Без скобочек, в одну строку\n",
    "\n",
    "# Input1: 2 4 6 8 10 10 8 6 4 2\n",
    "# Input2: 3 9 12 15 18\n",
    "# Output: Повторяющихся чисел нет\n",
    "\n",
    "mass_1 = [2, 4, 6, 8, 10, 12, 10, 8, 6, 4, 2]\n",
    "mass_2 = [3, 5, 9, 13, 15, 18]\n",
    "\n",
    "mass_1 = set(mass_1)\n",
    "mass_2 = set(mass_2)\n",
    "result_set = mass_1.intersection(mass_2)\n",
    "if len(result_set) == 0:\n",
    "    print('Повторяющихся чисел нет')\n",
    "else:    \n",
    "    print(*sorted(result_set))"
   ]
  },
  {
   "cell_type": "code",
   "execution_count": 21,
   "metadata": {},
   "outputs": [
    {
     "name": "stdout",
     "output_type": "stream",
     "text": [
      "6 10\n",
      "6 10\n"
     ]
    }
   ],
   "source": [
    "mass_1 = [2, 4, 10, 8, 10, 12, 10, 8, 6, 4, 2]\n",
    "mass_2 = [3, 6, 9, 13, 10, 18]\n",
    "result = []\n",
    "for i in range(len(mass_1)):\n",
    "    for j in range(len(mass_2)):\n",
    "        if mass_1[i] == mass_2[j]:\n",
    "            if mass_1[i] not in result:\n",
    "                result.append(mass_1[i])\n",
    "print(*sorted(result))\n",
    "\n",
    "result_1 = []\n",
    "for i in range(len(result)):\n",
    "    if min(result) not in result_1:\n",
    "        result_1.append(min(result))\n",
    "        result.remove(min(result))\n",
    "if len(result_1) == 0:\n",
    "    print('Повторяющихся числе нет')\n",
    "else:\n",
    "    print(*result_1)\n"
   ]
  },
  {
   "cell_type": "code",
   "execution_count": 28,
   "metadata": {},
   "outputs": [
    {
     "name": "stdout",
     "output_type": "stream",
     "text": [
      "21\n"
     ]
    }
   ],
   "source": [
    "# В фермерском хозяйстве в Карелии выращивают чернику. Она растет на круглой грядке, причем кусты высажены только по окружности. \n",
    "# Таким образом, у каждого куста есть ровно два соседних. Всего на грядке растет N кустов. \n",
    "# Собирающий модуль за один заход, находясь непосредственно перед некоторым кустом, собирает ягоды с этого куста и с двух соседних с ним.\n",
    "# Напишите программу для нахождения максимального числа ягод, которое может собрать за один заход собирающий модуль, находясь перед некоторым кустом. \n",
    "# На входе задано количество ягод на каждом кусте. Не обязательно вводить их с клавиатуры, можно задать непосредственно в коде программы\n",
    "# Примеры/Тесты:\n",
    "# Input1: 1, 2, 3, 4, 5, 6, 7, 8\n",
    "# Output1: Макс. кол-во ягод 21, собрано для куста 7\n",
    "# Input1: 11, 92, 1, 42, 15, 12, 11, 81\n",
    "# Output1: Макс. кол-во ягод 184, собрано для куста 1\n",
    "\n",
    "l = [1, 2, 3, 4, 5, 6, 7, 8]\n",
    "result = 0\n",
    "\n",
    "for i in range(len(l)):\n",
    "    result_temp = 0\n",
    "    if i == 0:\n",
    "        result_temp = l[i] + l[i + 1] + l[- 1]\n",
    "    elif i == (len(l) - 1):\n",
    "        result_temp = l[i] + l[i - 1] + l[0]\n",
    "    else:\n",
    "        result_temp = l[i] + l[i - 1] + l[i + 1]\n",
    "    if result_temp > result:\n",
    "        result = result_temp\n",
    "print(result)\n",
    "    "
   ]
  }
 ],
 "metadata": {
  "kernelspec": {
   "display_name": "Python 3",
   "language": "python",
   "name": "python3"
  },
  "language_info": {
   "codemirror_mode": {
    "name": "ipython",
    "version": 3
   },
   "file_extension": ".py",
   "mimetype": "text/x-python",
   "name": "python",
   "nbconvert_exporter": "python",
   "pygments_lexer": "ipython3",
   "version": "3.11.-1"
  },
  "orig_nbformat": 4,
  "vscode": {
   "interpreter": {
    "hash": "b93fce6c5cf69168f1a13ce911c72f30cc77c79194377ddd862c1f46d8218ab1"
   }
  }
 },
 "nbformat": 4,
 "nbformat_minor": 2
}
