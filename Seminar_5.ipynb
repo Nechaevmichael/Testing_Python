{
 "cells": [
  {
   "cell_type": "code",
   "execution_count": 4,
   "metadata": {},
   "outputs": [
    {
     "name": "stdout",
     "output_type": "stream",
     "text": [
      "False\n"
     ]
    }
   ],
   "source": [
    "# Напишите функцию, которая принимает число и проверяет, является ли оно простым\n",
    "# Напоминание: Простое число - это число, которое имеет 2 делителя: 1  и n(само число)\n",
    "# Если число простое - функция возвращает True, если нет - возвращает False\n",
    "# Примеры/Тесты:\n",
    "#     <function_name>(13) -> True\n",
    "#     <function_name>(10) -> False\n",
    "\n",
    "def is_prime_number(n: int) -> bool:\n",
    "    for i in range(2, n):\n",
    "        if n % i == 0:\n",
    "            return False\n",
    "    return True\n",
    "print(is_prime_number(9))\n"
   ]
  },
  {
   "cell_type": "code",
   "execution_count": 5,
   "metadata": {},
   "outputs": [
    {
     "name": "stdout",
     "output_type": "stream",
     "text": [
      "3 2 1 \n"
     ]
    }
   ],
   "source": [
    "# Напишите функцию, которая принимает натуральное число n, в теле функции считывает (input) последовательность из n элементов\n",
    "# Возвращает эту последовательность в виде строки в обратном порядке\n",
    "\n",
    "# Примеры/Тесты:\n",
    "#     <function_name>(5) 1 2 3 4 5 ->  '5 4 3 2 1'\n",
    "#     <function_name>(3) 8 7 9     ->  '9 7 8'\n",
    "# Примечание. В программе запрещается объявлять массивы и использовать циклы (даже для ввода и вывода).\n",
    "\n",
    "def sequence(n):\n",
    "    if n == 0:\n",
    "        return ''\n",
    "    num = input()\n",
    "    result = f'{sequence(n - 1) + num} '\n",
    "    return result\n",
    "\n",
    "print(sequence(3))"
   ]
  }
 ],
 "metadata": {
  "kernelspec": {
   "display_name": "Python 3",
   "language": "python",
   "name": "python3"
  },
  "language_info": {
   "codemirror_mode": {
    "name": "ipython",
    "version": 3
   },
   "file_extension": ".py",
   "mimetype": "text/x-python",
   "name": "python",
   "nbconvert_exporter": "python",
   "pygments_lexer": "ipython3",
   "version": "3.11.1"
  },
  "orig_nbformat": 4,
  "vscode": {
   "interpreter": {
    "hash": "b93fce6c5cf69168f1a13ce911c72f30cc77c79194377ddd862c1f46d8218ab1"
   }
  }
 },
 "nbformat": 4,
 "nbformat_minor": 2
}
