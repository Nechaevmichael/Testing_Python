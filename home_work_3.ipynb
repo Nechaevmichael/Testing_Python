{
 "cells": [
  {
   "cell_type": "code",
   "execution_count": 2,
   "metadata": {},
   "outputs": [
    {
     "name": "stdout",
     "output_type": "stream",
     "text": [
      "Искомое число \"4\" встречается в массиве 3 раз.\n"
     ]
    }
   ],
   "source": [
    "# Требуется вычислить, сколько раз встречается некоторое\n",
    "# число X в массиве A[1..N]. Пользователь в первой строке вводит\n",
    "# натуральное число N – количество элементов в массиве. В последующих\n",
    "# строках записаны N целых чисел Ai\n",
    "# . Последняя строка содержит число X\n",
    "\n",
    "n = int(input('Введите количество элементов массива: '))\n",
    "l = []\n",
    "for i in range(n):\n",
    "    l.append(int(input(\"Введите значение элемента массива: \")))\n",
    "\n",
    "x = int(input('Введите искомое число в массиве: '))\n",
    "count = 0\n",
    "\n",
    "for i in range(len(l)):\n",
    "    if l[i] == x:\n",
    "        count += 1\n",
    "\n",
    "print(f'Искомое число \"{x}\" встречается в массиве {count} раз(а).')\n",
    "\n"
   ]
  }
 ],
 "metadata": {
  "kernelspec": {
   "display_name": "Python 3",
   "language": "python",
   "name": "python3"
  },
  "language_info": {
   "codemirror_mode": {
    "name": "ipython",
    "version": 3
   },
   "file_extension": ".py",
   "mimetype": "text/x-python",
   "name": "python",
   "nbconvert_exporter": "python",
   "pygments_lexer": "ipython3",
   "version": "3.11.1"
  },
  "orig_nbformat": 4,
  "vscode": {
   "interpreter": {
    "hash": "b93fce6c5cf69168f1a13ce911c72f30cc77c79194377ddd862c1f46d8218ab1"
   }
  }
 },
 "nbformat": 4,
 "nbformat_minor": 2
}
