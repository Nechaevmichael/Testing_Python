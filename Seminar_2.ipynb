{
 "cells": [
  {
   "cell_type": "code",
   "execution_count": 2,
   "metadata": {},
   "outputs": [
    {
     "name": "stdout",
     "output_type": "stream",
     "text": [
      "120\n"
     ]
    }
   ],
   "source": [
    "# По данному целому неотрицательному n вычислите\n",
    "# значение n!. N! = 1 * 2 * 3 * … * N (произведение всех\n",
    "# чисел от 1 до N) 0! = 1 Решить задачу используя цикл\n",
    "# while\n",
    "# Input: 5\n",
    "# Output: 120\n",
    "\n",
    "n = int(input())\n",
    "i = 1\n",
    "factorial = 1\n",
    "while i < n + 1:\n",
    "    factorial *= i\n",
    "    i += 1\n",
    "if n == 0:\n",
    "    print(1)\n",
    "else:\n",
    "    print(factorial)\n"
   ]
  },
  {
   "cell_type": "code",
   "execution_count": 10,
   "metadata": {},
   "outputs": [
    {
     "name": "stdout",
     "output_type": "stream",
     "text": [
      "[0, 1, 1, 2, 3, 5, 8, 13, 21, 34, 55, 89]\n",
      "12\n"
     ]
    }
   ],
   "source": [
    "# Дано натуральное число A > 1. Определите, каким по\n",
    "# счету числом Фибоначчи оно является, то есть\n",
    "# выведите такое число n, что φ(n)=A. Если А не\n",
    "# является числом Фибоначчи, выведите число -1.\n",
    "# Input: 5\n",
    "# Output: 6 \n",
    "\n",
    "list_fibonacci = [0, 1]\n",
    "j = - 1\n",
    "k = - 2\n",
    "for i in range(10):\n",
    "    list_fibonacci.append(list_fibonacci[j] + list_fibonacci[k])\n",
    "print(list_fibonacci)\n",
    "\n",
    "A = int(input())\n",
    "if A not in list_fibonacci:\n",
    "    print(-1)\n",
    "else:\n",
    "    print(list_fibonacci.index(A) + 1)"
   ]
  },
  {
   "cell_type": "code",
   "execution_count": 11,
   "metadata": {},
   "outputs": [
    {
     "name": "stdout",
     "output_type": "stream",
     "text": [
      "6\n"
     ]
    }
   ],
   "source": [
    "# Дано натуральное число A > 1. Определите, каким по\n",
    "# счету числом Фибоначчи оно является, то есть\n",
    "# выведите такое число n, что φ(n)=A. Если А не\n",
    "# является числом Фибоначчи, выведите число -1.\n",
    "# Input: 5\n",
    "# Output: 6\n",
    "\n",
    "A = int(input())\n",
    "if A == 0:\n",
    "    print(1)\n",
    "else:\n",
    "    fib_prev, fib_next = 0, 1\n",
    "    n = 2\n",
    "    while fib_next <= A:\n",
    "        if fib_next == A:\n",
    "            print(n)\n",
    "            break\n",
    "        fib_prev, fib_next = fib_next, fib_prev + fib_next\n",
    "        n += 1\n",
    "    else:\n",
    "        print(-1)\n",
    "\n"
   ]
  },
  {
   "cell_type": "code",
   "execution_count": 2,
   "metadata": {},
   "outputs": [
    {
     "name": "stdout",
     "output_type": "stream",
     "text": [
      "[-1, -2, 1, 2, 3]\n",
      "[1, 2, 3]\n",
      "3\n"
     ]
    }
   ],
   "source": [
    "# Уставшие от необычно теплой зимы, жители решили узнать,\n",
    "# действительно ли это самая длинная оттепель за всю историю\n",
    "# наблюдений за погодой. Они обратились к синоптикам, а те, в\n",
    "# свою очередь, занялись исследованиями статистики за\n",
    "# прошлые годы. Их интересует, сколько дней длилась самая\n",
    "# длинная оттепель. Оттепелью они называют период, в\n",
    "# который среднесуточная температура ежедневно превышала\n",
    "# 0 градусов Цельсия. Напишите программу, помогающую\n",
    "# синоптикам в работе.\n",
    "# Пользователь вводит число N – общее количество\n",
    "# рассматриваемых дней (1 ≤ N ≤ 100). В следующих строках\n",
    "# располагается N целых чисел.\n",
    "# Каждое число – среднесуточная температура в\n",
    "# соответствующий день. Температуры – целые числа и лежат в\n",
    "# диапазоне от –50 до 50\n",
    "# Input: 6 -> -20 30 -40 50 10 -10\n",
    "# Output: 2\n",
    "\n",
    "count_days = int(input())\n",
    "temperature = []\n",
    "for i in range(count_days):\n",
    "    temperature.append(int(input()))\n",
    "print(temperature)\n",
    "\n",
    "temp = []\n",
    "count = 0\n",
    "for i in range(len(temperature)):\n",
    "    if temperature[i] > 0:\n",
    "        count += 1\n",
    "        temp.append(count)\n",
    "    elif temperature[i] < 0:\n",
    "        count = 0\n",
    "print(max(temp))\n"
   ]
  },
  {
   "cell_type": "code",
   "execution_count": 13,
   "metadata": {},
   "outputs": [
    {
     "name": "stdout",
     "output_type": "stream",
     "text": [
      "2\n"
     ]
    }
   ],
   "source": [
    "# Уставшие от необычно теплой зимы, жители решили узнать,\n",
    "# действительно ли это самая длинная оттепель за всю историю\n",
    "# наблюдений за погодой. Они обратились к синоптикам, а те, в\n",
    "# свою очередь, занялись исследованиями статистики за\n",
    "# прошлые годы. Их интересует, сколько дней длилась самая\n",
    "# длинная оттепель. Оттепелью они называют период, в\n",
    "# который среднесуточная температура ежедневно превышала\n",
    "# 0 градусов Цельсия. Напишите программу, помогающую\n",
    "# синоптикам в работе.\n",
    "# Пользователь вводит число N – общее количество\n",
    "# рассматриваемых дней (1 ≤ N ≤ 100). В следующих строках\n",
    "# располагается N целых чисел.\n",
    "# Каждое число – среднесуточная температура в\n",
    "# соответствующий день. Температуры – целые числа и лежат в\n",
    "# диапазоне от –50 до 50\n",
    "# Input: 6 -> -20 30 -40 50 10 -10\n",
    "# Output: 2\n",
    "\n",
    "num_days = int(input(\"Введите количество дней:\"))\n",
    "\n",
    "if 1 <= num_days <= 100:\n",
    "    current_day = 0\n",
    "    length_warm = 0\n",
    "    max_length_warm = 0\n",
    "    while current_day < num_days:\n",
    "        current_temp = int(input('Введите температур: '))\n",
    "        current_day += 1\n",
    "        if current_temp >= 0:\n",
    "            length_warm += 1\n",
    "            if current_day == num_days and length_warm > max_length_warm:\n",
    "                max_length_warm = length_warm    \n",
    "        elif length_warm > max_length_warm:\n",
    "            max_length_warm = length_warm\n",
    "            length_warm = 0\n",
    "print(max_length_warm)"
   ]
  },
  {
   "cell_type": "code",
   "execution_count": 33,
   "metadata": {},
   "outputs": [
    {
     "name": "stdout",
     "output_type": "stream",
     "text": [
      "[5, 1, 6, 5, 9]\n",
      "1 9\n",
      "1 9\n"
     ]
    }
   ],
   "source": [
    "# 15. Иван Васильевич пришел на рынок и решил\n",
    "# купить два арбуза: один для себя, а другой для тещи.\n",
    "# Понятно, что для себя нужно выбрать арбуз\n",
    "# потяжелей, а для тещи полегче. Но вот незадача:\n",
    "# арбузов слишком много и он не знает как же выбрать\n",
    "# самый легкий и самый тяжелый арбуз? Помогите ему!\n",
    "# Пользователь вводит одно число N – количество\n",
    "# арбузов. Вторая строка содержит N чисел,\n",
    "# записанных на новой строчке каждое. Здесь каждое\n",
    "# число – это масса соответствующего арбуза\n",
    "# Input: 5 -> 5 1 6 5 9\n",
    "# Output: 1 9\n",
    "\n",
    "count_watermalone = int(input())\n",
    "weight_watermalone = []\n",
    "\n",
    "for i in range(count_watermalone):\n",
    "    weight_watermalone.append(int(input()))\n",
    "print(weight_watermalone)\n",
    "\n",
    "minimum = weight_watermalone[0]\n",
    "maximum = weight_watermalone[0]\n",
    "\n",
    "for i in range(len(weight_watermalone)):\n",
    "    if weight_watermalone[i] > maximum:\n",
    "        maximum = weight_watermalone[i]\n",
    "    elif weight_watermalone[i] < minimum:\n",
    "        minimum = weight_watermalone[i]\n",
    "\n",
    "print(minimum, maximum)\n",
    "print(min(weight_watermalone), max(weight_watermalone))\n"
   ]
  }
 ],
 "metadata": {
  "kernelspec": {
   "display_name": "Python 3",
   "language": "python",
   "name": "python3"
  },
  "language_info": {
   "codemirror_mode": {
    "name": "ipython",
    "version": 3
   },
   "file_extension": ".py",
   "mimetype": "text/x-python",
   "name": "python",
   "nbconvert_exporter": "python",
   "pygments_lexer": "ipython3",
   "version": "3.10.4 (tags/v3.10.4:9d38120, Mar 23 2022, 23:13:41) [MSC v.1929 64 bit (AMD64)]"
  },
  "orig_nbformat": 4,
  "vscode": {
   "interpreter": {
    "hash": "3bd13bc16400e16874b7ce28af58a129343287e94248a182c1f06fbb6b76ef8e"
   }
  }
 },
 "nbformat": 4,
 "nbformat_minor": 2
}
