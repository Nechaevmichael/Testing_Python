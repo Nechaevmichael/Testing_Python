{
 "cells": [
  {
   "cell_type": "code",
   "execution_count": 1,
   "metadata": {},
   "outputs": [
    {
     "name": "stdout",
     "output_type": "stream",
     "text": [
      "2\n"
     ]
    }
   ],
   "source": [
    "# На столе лежат n монеток. Некоторые из них лежат вверх\n",
    "# решкой, а некоторые – гербом. Определите минимальное число\n",
    "# монеток, которые нужно перевернуть, чтобы все монетки были\n",
    "# повернуты вверх одной и той же стороной. Выведите минимальное\n",
    "# количество монет, которые нужно перевернуть.\n",
    "# 5 -> 1 0 1 1 0\n",
    "# 2\n",
    "\n",
    "count_monets = int(input())\n",
    "monets = []\n",
    "\n",
    "for i in range(count_monets):\n",
    "    monets.append(int(input()))\n",
    "\n",
    "count_0 = 0\n",
    "count_1 = 0\n",
    "for i in range(len(monets)):\n",
    "    if monets[i] == 0:\n",
    "        count_0 += 1\n",
    "    else:\n",
    "        count_1 += 1\n",
    "\n",
    "if count_0 < count_1:\n",
    "    print(count_0)\n",
    "else:\n",
    "    print(count_1)"
   ]
  }
 ],
 "metadata": {
  "kernelspec": {
   "display_name": "Python 3",
   "language": "python",
   "name": "python3"
  },
  "language_info": {
   "codemirror_mode": {
    "name": "ipython",
    "version": 3
   },
   "file_extension": ".py",
   "mimetype": "text/x-python",
   "name": "python",
   "nbconvert_exporter": "python",
   "pygments_lexer": "ipython3",
   "version": "3.10.4"
  },
  "orig_nbformat": 4,
  "vscode": {
   "interpreter": {
    "hash": "3bd13bc16400e16874b7ce28af58a129343287e94248a182c1f06fbb6b76ef8e"
   }
  }
 },
 "nbformat": 4,
 "nbformat_minor": 2
}
