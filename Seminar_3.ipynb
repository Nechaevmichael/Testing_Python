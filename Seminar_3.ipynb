{
 "cells": [
  {
   "cell_type": "code",
   "execution_count": 6,
   "metadata": {},
   "outputs": [
    {
     "name": "stdout",
     "output_type": "stream",
     "text": [
      "6\n",
      "6\n"
     ]
    }
   ],
   "source": [
    "# Дан список чисел. Определите, сколько в нем\n",
    "# встречается различных чисел.\n",
    "# Input: [1, 1, 2, 0, -1, 3, 4, 4]\n",
    "# Output: 6\n",
    "\n",
    "l = [1, 1, 2, 0, -1, 3, 4, 4]\n",
    "\n",
    "print(len(set(l)))\n",
    "\n",
    "result = set()\n",
    "for i in l:\n",
    "    result.add(i)\n",
    "print(len(result))"
   ]
  },
  {
   "cell_type": "code",
   "execution_count": 13,
   "metadata": {},
   "outputs": [
    {
     "name": "stdout",
     "output_type": "stream",
     "text": [
      "{'S009', 'S007', 'S001', 'S002', 'S005'}\n"
     ]
    }
   ],
   "source": [
    "# Напишите программу для печати всех уникальных\n",
    "# значений в словаре.\n",
    "# Input: [{\"V\": \"S001\"}, {\"V\": \"S002\"}, {\"VI\": \"S001\"},\n",
    "# {\"VI\": \"S005\"}, {\"VII\": \" S005 \"}, {\" V \":\" S009 \"}, {\" VIII\n",
    "# \":\" S007 \"}]\n",
    "# Output: {'S005', 'S002', 'S007', 'S001', 'S009'}\n",
    "\n",
    "d = [{\"V\": \"S001\"}, {\"V\": \"S002\"},\n",
    "     {\"VI\": \"S001\"}, {\"VI\": \"S005\"}, \n",
    "     {\"VII\": \"S005\"}, {\"V\":\"S009\"}, \n",
    "     {\"VIII \":\"S007\"}]\n",
    "\n",
    "result = set()\n",
    "\n",
    "for i in d:\n",
    "    for key, value in i.items():\n",
    "        result.add(value)\n",
    "\n",
    "print(result)"
   ]
  },
  {
   "cell_type": "code",
   "execution_count": 26,
   "metadata": {},
   "outputs": [
    {
     "name": "stdout",
     "output_type": "stream",
     "text": [
      "3 (-1 < 5, 2 < 3, 4 < 5)\n"
     ]
    }
   ],
   "source": [
    "# Дан массив, состоящий из целых чисел. Напишите\n",
    "# программу, которая подсчитает количество\n",
    "# элементов массива, больших предыдущего (элемента\n",
    "# с предыдущим номером)\n",
    "# Input: [0, -1, 5, 2, 3]\n",
    "# Output: 2 (-1 < 5, 2 < 3)\n",
    "\n",
    "l = [0, -1, 5, 2, 3, 4, 5]\n",
    "count = 0\n",
    "l_1 = []\n",
    "for i in range(1, len(l), 2):\n",
    "    if l[i] < l[i + 1]:\n",
    "        count += 1\n",
    "        l_1.append(f'{l[i]} < {l[i + 1]}')\n",
    "a = ', '.join(l_1)\n",
    "print(count,f'({a})')\n",
    "\n"
   ]
  },
  {
   "cell_type": "code",
   "execution_count": 49,
   "metadata": {},
   "outputs": [
    {
     "name": "stdout",
     "output_type": "stream",
     "text": [
      "[0, 0, 0, 0, 0, 0, 0]\n",
      "[10, 1, 2, 3, 4, 5, 7]\n"
     ]
    }
   ],
   "source": [
    "# Дана последовательность из N целых чисел и число\n",
    "# K. Необходимо сдвинуть всю последовательность\n",
    "# (сдвиг - циклический) на K элементов вправо, K –\n",
    "# положительное число.\n",
    "# Input: [1, 2, 3, 4, 5] k = 3\n",
    "# Output: [4, 5, 1, 2, 3]\n",
    "\n",
    "l = [1, 2, 3, 4, 5, 7, 10]\n",
    "k = 2\n",
    "\n",
    "l_1 = []\n",
    "for i in range(len(l)):\n",
    "    l_1.append(0)\n",
    "print(l_1)\n",
    "\n",
    "for i in range(len(l)):\n",
    "    j = i + k - 1\n",
    "    if j < len(l):\n",
    "        l_1[j] = l[i]\n",
    "    elif j >= len(l):\n",
    "        j -= len(l)\n",
    "        l_1[j] = l[i]\n",
    "\n",
    "print(l_1)\n"
   ]
  }
 ],
 "metadata": {
  "kernelspec": {
   "display_name": "Python 3",
   "language": "python",
   "name": "python3"
  },
  "language_info": {
   "codemirror_mode": {
    "name": "ipython",
    "version": 3
   },
   "file_extension": ".py",
   "mimetype": "text/x-python",
   "name": "python",
   "nbconvert_exporter": "python",
   "pygments_lexer": "ipython3",
   "version": "3.11.1"
  },
  "orig_nbformat": 4,
  "vscode": {
   "interpreter": {
    "hash": "b93fce6c5cf69168f1a13ce911c72f30cc77c79194377ddd862c1f46d8218ab1"
   }
  }
 },
 "nbformat": 4,
 "nbformat_minor": 2
}
